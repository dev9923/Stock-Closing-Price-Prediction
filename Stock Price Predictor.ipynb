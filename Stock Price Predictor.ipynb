# 📌 Step 1: Import Required Libraries
import requests
import pandas as pd
import numpy as np
import matplotlib.pyplot as plt
from sklearn.preprocessing import MinMaxScaler
from tensorflow.keras.models import Sequential
from tensorflow.keras.layers import Dense, LSTM
import datetime

# 📌 Step 2: Fetch Live Bank Stock Prices Using Groww Unofficial API
def fetch_groww_price(symbol: str) -> float:
    url = f"https://groww.in/v1/api/stocks_data/v1/company/{symbol}"
    resp = requests.get(url)
    resp.raise_for_status()
    data = resp.json()
    return float(data["current_price"])

# Define a list of Indian banks (as per Groww symbol names)
bank_symbols = ["SBIN", "ICICIBANK", "HDFCBANK", "AXISBANK", "KOTAKBANK"]

# Get live prices
live_prices = []
for symbol in bank_symbols:
    try:
        price = fetch_groww_price(symbol)
        print(f"{symbol} → ₹{price}")
        live_prices.append(price)
    except Exception as e:
        print(f"Error fetching {symbol}: {e}")
        live_prices.append(None)

# 📌 Step 3: Generate Dummy Historical Data (in absence of API access)
np.random.seed(42)
days = 100
historical_data = {symbol: np.linspace(price * 0.9, price * 1.1, days) + np.random.normal(0, 2, days)
                   for symbol, price in zip(bank_symbols, live_prices) if price is not None}

# 📌 Step 4: Normalize Data and Prepare for LSTM
scaler = MinMaxScaler(feature_range=(0, 1))
sequences = {}
for symbol, data in historical_data.items():
    scaled = scaler.fit_transform(data.reshape(-1, 1))
    X, y = [], []
    for i in range(60, len(scaled)):
        X.append(scaled[i-60:i, 0])
        y.append(scaled[i, 0])
    sequences[symbol] = (np.array(X), np.array(y), scaler)

# 📌 Step 5: Train LSTM Model Per Stock
models = {}
for symbol, (X_train, y_train, scaler) in sequences.items():
    X_train = X_train.reshape((X_train.shape[0], X_train.shape[1], 1))

    model = Sequential([
        LSTM(units=50, return_sequences=True, input_shape=(X_train.shape[1], 1)),
        LSTM(units=50),
        Dense(units=1)
    ])
    model.compile(optimizer='adam', loss='mean_squared_error')
    model.fit(X_train, y_train, epochs=5, batch_size=32, verbose=0)
    models[symbol] = (model, scaler)

# 📌 Step 6: Predict Next Day Price
for symbol, (model, scaler) in models.items():
    last_60 = historical_data[symbol][-60:]
    last_scaled = scaler.transform(last_60.reshape(-1, 1))
    input_data = last_scaled.reshape(1, 60, 1)
    predicted_scaled = model.predict(input_data, verbose=0)
    predicted_price = scaler.inverse_transform(predicted_scaled)[0][0]
    print(f"🔮 Predicted next price for {symbol}: ₹{predicted_price:.2f}")
